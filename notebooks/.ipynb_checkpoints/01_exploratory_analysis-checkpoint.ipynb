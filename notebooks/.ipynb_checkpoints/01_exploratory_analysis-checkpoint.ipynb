{
 "cells": [
  {
   "cell_type": "code",
   "execution_count": 1,
   "id": "cb759523-1404-4f3c-9310-57f459a29b87",
   "metadata": {},
   "outputs": [],
   "source": [
    "# 01_exploratory_analysis.ipyb"
   ]
  },
  {
   "cell_type": "markdown",
   "id": "7eefe112-7f39-4d29-82f7-3c6235c2c996",
   "metadata": {},
   "source": [
    "# Exploratory Data Analysis: Kohli in the Clutch\n",
    "\n",
    "This notebook performs a basic exploratory analysis on Virat Kohli's match-by-match performance data, focusing on key contextual and performance metrics. The insights gathered here will guide how we define and evaluate \"clutch\" performances in later steps."
   ]
  },
  {
   "cell_type": "markdown",
   "id": "63b56bb2-9b9b-4c80-9ba5-aa7394115dc1",
   "metadata": {},
   "source": [
    "## Imports & Setup"
   ]
  },
  {
   "cell_type": "code",
   "execution_count": 2,
   "id": "44715fa7-f4b9-45f6-9cb5-c340b8685d33",
   "metadata": {},
   "outputs": [],
   "source": [
    "# Basic Setup\n",
    "import sys\n",
    "import os\n",
    "sys.path.append(os.path.abspath(\"..\"))\n",
    "\n",
    "import warnings\n",
    "warnings.filterwarnings('ignore')"
   ]
  },
  {
   "cell_type": "code",
   "execution_count": 3,
   "id": "818dd6d7-3fbb-49c9-8ede-1ff26895d65e",
   "metadata": {},
   "outputs": [],
   "source": [
    "import pandas as pd\n",
    "import numpy as np\n",
    "import seaborn as sns\n",
    "import matplotlib.pyplot as plt\n",
    "\n",
    "from src.plot_utils import save_plot"
   ]
  },
  {
   "cell_type": "code",
   "execution_count": 4,
   "id": "577f18b2-cb0e-49a8-8dea-2f7dcda58959",
   "metadata": {},
   "outputs": [],
   "source": [
    "# Set seaborn theme\n",
    "sns.set(style='whitegrid', palette='muted', font_scale=1.1)"
   ]
  },
  {
   "cell_type": "markdown",
   "id": "2fa0c3c0-a11e-4f53-aeab-a8e151a04f4b",
   "metadata": {
    "jp-MarkdownHeadingCollapsed": true
   },
   "source": [
    "## Load Dataset\n",
    "\n",
    "Dataset contains match-by-match performance data for Virat Kohli across key matches, with columns like runs, dismissal type, match context, and clutch labels."
   ]
  },
  {
   "cell_type": "code",
   "execution_count": 5,
   "id": "b6e7d1da-c50d-456f-8bd3-4be420ef4134",
   "metadata": {},
   "outputs": [],
   "source": [
    "df = pd.read_csv('../data/raw/raw_data.csv')"
   ]
  },
  {
   "cell_type": "markdown",
   "id": "c415fc7a-b707-4428-a0b4-3d0cf366326b",
   "metadata": {
    "jp-MarkdownHeadingCollapsed": true
   },
   "source": [
    "## Basic Overview & Cleaning"
   ]
  },
  {
   "cell_type": "code",
   "execution_count": 6,
   "id": "140be02a-fdc0-4a55-b816-8f4ee207a0f9",
   "metadata": {},
   "outputs": [
    {
     "name": "stdout",
     "output_type": "stream",
     "text": [
      "Dataset shape: (10, 18)\n",
      "\n",
      "Column types:\n",
      "match_id               object\n",
      "date                   object\n",
      "opposition             object\n",
      "match_type             object\n",
      "match_stage            object\n",
      "venue                  object\n",
      "toss_win               object\n",
      "match_winner           object\n",
      "target_score            int64\n",
      "is_chasing               bool\n",
      "arrival_time           object\n",
      "runs_scored             int64\n",
      "balls_faced             int64\n",
      "dismissal              object\n",
      "dismissal_time         object\n",
      "result                 object\n",
      "clutch_label           object\n",
      "player_of_the_match    object\n",
      "dtype: object\n"
     ]
    }
   ],
   "source": [
    "print(\"Dataset shape:\", df.shape)\n",
    "print(\"\\nColumn types:\")\n",
    "print(df.dtypes)"
   ]
  },
  {
   "cell_type": "code",
   "execution_count": 7,
   "id": "13ac6602-3135-4051-b22e-b671546c8536",
   "metadata": {},
   "outputs": [],
   "source": [
    "# Convert date to datetime\n",
    "df['date'] = pd.to_datetime(df['date'], dayfirst=True)"
   ]
  },
  {
   "cell_type": "code",
   "execution_count": 8,
   "id": "aef08126-3550-4a3f-b981-f6f9e3f8983e",
   "metadata": {},
   "outputs": [],
   "source": [
    "# Ensure 'clutch_label' is a category\n",
    "df['clutch_label'] = df['clutch_label'].astype('category')"
   ]
  },
  {
   "cell_type": "code",
   "execution_count": 9,
   "id": "17ebb308-7b8a-4c58-9f76-6313b351142e",
   "metadata": {},
   "outputs": [],
   "source": [
    "# Changing 'is_chasing' to a boolean category\n",
    "df['is_chasing'] = df['is_chasing'].astype(str).str.lower().map({'true': True, 'false': False})"
   ]
  },
  {
   "cell_type": "code",
   "execution_count": 10,
   "id": "34cad68a-5e42-42f1-8055-107cb9123e46",
   "metadata": {},
   "outputs": [
    {
     "name": "stdout",
     "output_type": "stream",
     "text": [
      "Missing Values:\n",
      "\n"
     ]
    },
    {
     "data": {
      "text/plain": [
       "match_id               0\n",
       "date                   0\n",
       "opposition             0\n",
       "match_type             0\n",
       "match_stage            0\n",
       "venue                  0\n",
       "toss_win               0\n",
       "match_winner           0\n",
       "target_score           0\n",
       "is_chasing             0\n",
       "arrival_time           0\n",
       "runs_scored            0\n",
       "balls_faced            0\n",
       "dismissal              0\n",
       "dismissal_time         3\n",
       "result                 0\n",
       "clutch_label           0\n",
       "player_of_the_match    0\n",
       "dtype: int64"
      ]
     },
     "execution_count": 10,
     "metadata": {},
     "output_type": "execute_result"
    }
   ],
   "source": [
    "# Checking for missing value\n",
    "print('Missing Values:\\n')\n",
    "df.isnull().sum()"
   ]
  },
  {
   "cell_type": "code",
   "execution_count": 11,
   "id": "1bcc1dea-e8c0-475e-9c1f-f3ceb939fc7c",
   "metadata": {},
   "outputs": [],
   "source": [
    "df['dismissal_time'] = df['dismissal_time'].fillna(-1)"
   ]
  },
  {
   "cell_type": "code",
   "execution_count": 12,
   "id": "30468eae-3bb0-4fa4-b31c-dfa5900db266",
   "metadata": {},
   "outputs": [
    {
     "name": "stdout",
     "output_type": "stream",
     "text": [
      "Match Types:\n",
      " match_type\n",
      "ODI    6\n",
      "T20    4\n",
      "Name: count, dtype: int64 \n",
      "\n",
      "Opposition Teams:\n",
      " opposition\n",
      "Australia       4\n",
      "Pakistan        2\n",
      "New Zealand     1\n",
      "Sri Lanka       1\n",
      "Bangladesh      1\n",
      "South Africa    1\n",
      "Name: count, dtype: int64 \n",
      "\n",
      "Match Stages:\n",
      " match_stage\n",
      "Bilateral     5\n",
      "Group         2\n",
      "Final         2\n",
      "Semi-Final    1\n",
      "Name: count, dtype: int64 \n",
      "\n",
      "Results:\n",
      " result\n",
      "India Win     6\n",
      "India Lost    4\n",
      "Name: count, dtype: int64\n"
     ]
    }
   ],
   "source": [
    "# 5. Value Counts for Key Categorical Columns\n",
    "print(\"Match Types:\\n\", df['match_type'].value_counts(), \"\\n\")\n",
    "print(\"Opposition Teams:\\n\", df['opposition'].value_counts(), \"\\n\")\n",
    "print(\"Match Stages:\\n\", df['match_stage'].value_counts(), \"\\n\")\n",
    "print(\"Results:\\n\", df['result'].value_counts())"
   ]
  },
  {
   "cell_type": "markdown",
   "id": "a211d5f6-0782-44ee-b10a-b3ecf9c04930",
   "metadata": {},
   "source": [
    "## Basic EDA"
   ]
  },
  {
   "cell_type": "markdown",
   "id": "61de027f-0b4c-429c-9829-748e20dbe3bd",
   "metadata": {},
   "source": [
    "### Kohli's Run Distribution"
   ]
  },
  {
   "cell_type": "code",
   "execution_count": 13,
   "id": "146d74c0-0fe7-489e-9a57-9bba3ac7100d",
   "metadata": {},
   "outputs": [
    {
     "ename": "SyntaxError",
     "evalue": "invalid decimal literal (2087703847.py, line 35)",
     "output_type": "error",
     "traceback": [
      "  \u001b[36mCell\u001b[39m\u001b[36m \u001b[39m\u001b[32mIn[13]\u001b[39m\u001b[32m, line 35\u001b[39m\n\u001b[31m    \u001b[39m\u001b[31msave_plot('Kohli's_run_distribution-bucket_wise.png', subfolder='01_exploratory_analysis')\u001b[39m\n                                                                       ^\n\u001b[31mSyntaxError\u001b[39m\u001b[31m:\u001b[39m invalid decimal literal\n"
     ]
    }
   ],
   "source": [
    "# Basic run bucket function\n",
    "def get_run_bracket(runs):\n",
    "    if runs < 10:\n",
    "        return '<10'\n",
    "    elif runs < 30:\n",
    "        return '10–29'\n",
    "    elif runs < 50:\n",
    "        return '30–49'\n",
    "    elif runs < 80:\n",
    "        return '50–79'\n",
    "    else:\n",
    "        return '80+'\n",
    "\n",
    "df['run_bracket'] = df['runs_scored'].apply(get_run_bracket)\n",
    "\n",
    "# Set bracket order\n",
    "bracket_order = ['<10', '10–29', '30–49', '50–79', '80+']\n",
    "\n",
    "# Plot\n",
    "plt.figure(figsize=(8, 5))\n",
    "sns.set_style(\"whitegrid\")\n",
    "ax = sns.countplot(data=df, x='run_bracket', order=bracket_order, palette='pastel')\n",
    "\n",
    "# Clean y-axis with integer ticks\n",
    "max_count = df['run_bracket'].value_counts().max()\n",
    "ax.set_yticks(np.arange(0, max_count+1, 1))\n",
    "\n",
    "# Labels\n",
    "plt.title(\"Kohli's Run Bracket Distribution\", fontsize=14)\n",
    "plt.xlabel(\"Runs Scored\")\n",
    "plt.ylabel(\"Number of Matches\")\n",
    "plt.tight_layout()\n",
    "\n",
    "# Save\n",
    "save_plot('Kohli_run_distribution-bucket_wise.png', subfolder='01_exploratory_analysis')"
   ]
  },
  {
   "cell_type": "markdown",
   "id": "45af49cc-6ea9-4b12-8b7f-2ba2373b3b3c",
   "metadata": {},
   "source": [
    "This plot shows how often Virat Kohli's scores fell within defined performance brackets across the selected matches."
   ]
  },
  {
   "cell_type": "markdown",
   "id": "0181b350-c035-4085-8b8f-320e97ed3995",
   "metadata": {},
   "source": [
    "### Virat Kohli's Runs vs Balls Faced"
   ]
  },
  {
   "cell_type": "code",
   "execution_count": null,
   "id": "6bd7e506-40e9-46e9-be02-6b834f946044",
   "metadata": {},
   "outputs": [],
   "source": [
    "plt.figure(figsize=(10, 6))\n",
    "sns.scatterplot(\n",
    "    x='balls_faced', y='runs_scored', \n",
    "    hue='result', style='match_type', \n",
    "    data=df, s=120, palette='Set2'\n",
    ")\n",
    "plt.title(\"Virat Kohli's Runs vs Balls Faced\")\n",
    "plt.xlabel(\"Balls Faced\")\n",
    "plt.ylabel(\"Runs Scored\")\n",
    "plt.grid(True)\n",
    "plt.legend(title='Match Result')\n",
    "\n",
    "# Save\n",
    "save_plot('Kohli_runs-vs-balls_faced.png', subfolder='01_exploratory_analysis')"
   ]
  },
  {
   "cell_type": "markdown",
   "id": "97b5e596-8d06-4226-8a0d-5ff1ca5978a5",
   "metadata": {},
   "source": [
    "Each dot represents a match. Higher up means more runs, rightward means more balls. Color indicates whether India won or lost. Most winning performances cluster around high run counts with fewer balls."
   ]
  },
  {
   "cell_type": "markdown",
   "id": "f3523a2d-4194-4ec9-a94e-00d1f9d2f388",
   "metadata": {},
   "source": [
    "### Virat Kohli's Dismissal Types"
   ]
  },
  {
   "cell_type": "code",
   "execution_count": null,
   "id": "bf804b1f-2e0c-44b9-94d2-6160e8351172",
   "metadata": {},
   "outputs": [],
   "source": [
    "# Count and sort dismissal types\n",
    "dismissal_counts = df['dismissal'].value_counts().sort_values()\n",
    "\n",
    "# Set up plot\n",
    "plt.figure(figsize=(9, 5))\n",
    "sns.set_style(\"whitegrid\")\n",
    "ax = sns.barplot(\n",
    "    x=dismissal_counts.values,\n",
    "    y=dismissal_counts.index,\n",
    "    palette=\"pastel\"\n",
    ")\n",
    "\n",
    "# Set integer x-axis ticks\n",
    "max_count = dismissal_counts.max()\n",
    "ax.set_xticks(np.arange(0, max_count + 1, 1))\n",
    "\n",
    "# Labels and title\n",
    "plt.title(\"Virat Kohli – Dismissal Type Distribution\", fontsize=14, pad=10)\n",
    "plt.xlabel(\"Number of Times\")\n",
    "plt.ylabel(\"Dismissal Type\")\n",
    "plt.tight_layout()\n",
    "\n",
    "# Save\n",
    "save_plot('Kohli_dismissal_type.png', subfolder='01_exploratory_analysis')"
   ]
  },
  {
   "cell_type": "markdown",
   "id": "4d2555a8-10cb-4c15-ae3e-11bcbbc6e42b",
   "metadata": {},
   "source": [
    "### Key Observations\n",
    "\n",
    "- Kohli scores higher in matches India wins — a trait that supports the idea of clutch impact.\n",
    "- The dataset is well-balanced and ready for clutch scoring analysis.\n"
   ]
  },
  {
   "cell_type": "markdown",
   "id": "a06b10b2-1bb8-4974-b8c2-b55c5adab308",
   "metadata": {},
   "source": [
    "## Saving Processed DataFrame"
   ]
  },
  {
   "cell_type": "code",
   "execution_count": null,
   "id": "f6d0225c-7a3b-4830-b859-75ca2548502c",
   "metadata": {},
   "outputs": [],
   "source": [
    "# df.to_csv('../data/processed/processed_data.csv', index=False)"
   ]
  }
 ],
 "metadata": {
  "kernelspec": {
   "display_name": "Python 3 (ipykernel)",
   "language": "python",
   "name": "python3"
  },
  "language_info": {
   "codemirror_mode": {
    "name": "ipython",
    "version": 3
   },
   "file_extension": ".py",
   "mimetype": "text/x-python",
   "name": "python",
   "nbconvert_exporter": "python",
   "pygments_lexer": "ipython3",
   "version": "3.11.11"
  }
 },
 "nbformat": 4,
 "nbformat_minor": 5
}
